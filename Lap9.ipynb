{
 "cells": [
  {
   "cell_type": "markdown",
   "metadata": {},
   "source": [
    "# BTTH_PTTT_ Tuần 9_21110435"
   ]
  },
  {
   "cell_type": "code",
   "execution_count": 2,
   "metadata": {},
   "outputs": [],
   "source": [
    "# F(n)\n",
    "def f_n(n):\n",
    "    f_n= 0\n",
    "    str_n = str(n)\n",
    "    for i in str_n:\n",
    "        f_n += int(i)**2\n",
    "    return f_n"
   ]
  },
  {
   "cell_type": "code",
   "execution_count": 3,
   "metadata": {},
   "outputs": [
    {
     "name": "stdout",
     "output_type": "stream",
     "text": [
      "10\n"
     ]
    }
   ],
   "source": [
    "n = 31\n",
    "print(f_n(31))"
   ]
  },
  {
   "cell_type": "code",
   "execution_count": 4,
   "metadata": {},
   "outputs": [],
   "source": [
    "def find_cycle(N):\n",
    "    seen = list()\n",
    "    while N not in seen:\n",
    "        seen.append(N)\n",
    "        N = f_n(N)\n",
    "    seen.append(N)\n",
    "    return seen\n"
   ]
  },
  {
   "cell_type": "code",
   "execution_count": 5,
   "metadata": {},
   "outputs": [
    {
     "name": "stdout",
     "output_type": "stream",
     "text": [
      "[85, 89, 145, 42, 20, 4, 16, 37, 58, 89]\n"
     ]
    }
   ],
   "source": [
    "print(find_cycle(85))"
   ]
  },
  {
   "cell_type": "markdown",
   "metadata": {},
   "source": [
    "### Hàm cắt chu trình ra"
   ]
  },
  {
   "cell_type": "code",
   "execution_count": 12,
   "metadata": {},
   "outputs": [],
   "source": [
    "def cut_cycle(n):\n",
    "    lst =find_cycle(n)\n",
    "    for i in range(len(lst)):\n",
    "        if lst[i] in lst[i+1:]:\n",
    "            start = i\n",
    "            end = lst[i+1:].index(lst[i]) + i + 1 \n",
    "            return lst[start:end+1]\n",
    "    return []"
   ]
  },
  {
   "cell_type": "code",
   "execution_count": 14,
   "metadata": {},
   "outputs": [
    {
     "name": "stdout",
     "output_type": "stream",
     "text": [
      "[89, 145, 42, 20, 4, 16, 37, 58, 89]\n"
     ]
    }
   ],
   "source": [
    "print(cut_cycle(85))"
   ]
  }
 ],
 "metadata": {
  "kernelspec": {
   "display_name": "Python 3",
   "language": "python",
   "name": "python3"
  },
  "language_info": {
   "codemirror_mode": {
    "name": "ipython",
    "version": 3
   },
   "file_extension": ".py",
   "mimetype": "text/x-python",
   "name": "python",
   "nbconvert_exporter": "python",
   "pygments_lexer": "ipython3",
   "version": "3.11.4"
  }
 },
 "nbformat": 4,
 "nbformat_minor": 2
}
