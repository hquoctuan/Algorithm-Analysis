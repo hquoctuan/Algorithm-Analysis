{
 "cells": [
  {
   "cell_type": "markdown",
   "metadata": {},
   "source": [
    "# BTTH_PTTT_ Tuần 7_21110435"
   ]
  },
  {
   "cell_type": "markdown",
   "metadata": {},
   "source": [
    "- Câu 1"
   ]
  },
  {
   "cell_type": "code",
   "execution_count": 1,
   "metadata": {},
   "outputs": [],
   "source": [
    "def find_dominant_elements(arr):\n",
    "    n = len(arr)\n",
    "    count_dict = {}\n",
    "    dominant_elements = []\n",
    "    for i in arr: # O(n)\n",
    "        if i in count_dict: \n",
    "            count_dict[i]+=1\n",
    "        else: count_dict[i] = 1\n",
    "    for key,value in count_dict.items(): #O(n)\n",
    "        if value >= n//10:\n",
    "            dominant_elements.append(key)\n",
    "    \n",
    "    return dominant_elements\n",
    "            \n",
    " # ==> Độ phức tạp của thuật toán là là O(n)      \n",
    "    \n"
   ]
  },
  {
   "cell_type": "markdown",
   "metadata": {},
   "source": [
    "#### Test Function "
   ]
  },
  {
   "cell_type": "code",
   "execution_count": 2,
   "metadata": {},
   "outputs": [
    {
     "name": "stdout",
     "output_type": "stream",
     "text": [
      "Các phần tử lấn chiếm cấp 10 là: [1, 2, 3]\n"
     ]
    }
   ],
   "source": [
    "arr = [1, 2, 3, 1, 1, 1, 1, 2, 3, 1, 4, 1, 1, 1, 1, 1, 2, 2, 2, 2]\n",
    "dominant_elements = find_dominant_elements(arr)\n",
    "if dominant_elements:\n",
    "    print(\"Các phần tử lấn chiếm cấp 10 là:\", dominant_elements)\n",
    "else:\n",
    "    print(\"Không có phần tử nào lấn chiếm cấp 10 trong mảng.\")"
   ]
  },
  {
   "cell_type": "markdown",
   "metadata": {},
   "source": [
    "=> Kết quả chạy đúng"
   ]
  },
  {
   "cell_type": "markdown",
   "metadata": {},
   "source": [
    "- Câu 2"
   ]
  },
  {
   "cell_type": "code",
   "execution_count": 3,
   "metadata": {},
   "outputs": [],
   "source": [
    "def merge_sorted_arrays(A, B):\n",
    "    # Khởi tạo hai chỉ số cho hai mảng\n",
    "    i = 0\n",
    "    j = 0\n",
    "\n",
    "    # Khởi tạo mảng kết quả\n",
    "    result = []\n",
    "\n",
    "    # Duyệt qua hai mảng\n",
    "    while i < len(A) and j < len(B):\n",
    "        # Nếu phần tử của A nhỏ hơn hoặc bằng phần tử của B\n",
    "        if A[i] <= B[j]:\n",
    "            # Thêm phần tử của A vào kết quả\n",
    "            result.append(A[i])\n",
    "            # Tăng chỉ số của A\n",
    "            i += 1\n",
    "        else:\n",
    "            # Thêm phần tử của B vào kết quả\n",
    "            result.append(B[j])\n",
    "            # Tăng chỉ số của B\n",
    "            j += 1\n",
    "\n",
    "    # Nếu còn phần tử trong A\n",
    "    while i < len(A):\n",
    "        # Thêm phần tử còn lại của A vào kết quả\n",
    "        result.append(A[i])\n",
    "        i += 1\n",
    "\n",
    "    # Nếu còn phần tử trong B\n",
    "    while j < len(B):\n",
    "        # Thêm phần tử còn lại của B vào kết quả\n",
    "        result.append(B[j])\n",
    "        j += 1\n",
    "\n",
    "    return result\n",
    "\n",
    "\n"
   ]
  },
  {
   "cell_type": "markdown",
   "metadata": {},
   "source": [
    "#### Test Function"
   ]
  },
  {
   "cell_type": "code",
   "execution_count": 4,
   "metadata": {},
   "outputs": [
    {
     "name": "stdout",
     "output_type": "stream",
     "text": [
      "Mảng sau khi hợp nhất: [1, 2, 3, 4, 5, 6, 7, 8, 9, 10]\n"
     ]
    }
   ],
   "source": [
    "\n",
    "A = [1, 3, 5, 7, 9]\n",
    "B = [2, 4, 6, 8, 10]\n",
    "result = merge_sorted_arrays(A, B)\n",
    "print(\"Mảng sau khi hợp nhất:\", result)"
   ]
  },
  {
   "cell_type": "markdown",
   "metadata": {},
   "source": [
    "=> Kết quả chạy đúng"
   ]
  },
  {
   "cell_type": "code",
   "execution_count": 5,
   "metadata": {},
   "outputs": [
    {
     "name": "stdout",
     "output_type": "stream",
     "text": [
      "Mảng sau khi hợp nhất: [1, 2, 3, 4, 5, 6, 7, 8, 9, 10]\n"
     ]
    }
   ],
   "source": [
    "C = [5,9,13,6]\n",
    "D = [2, 4, 5, 8, 10]\n",
    "result = merge_sorted_arrays(A, B)\n",
    "print(\"Mảng sau khi hợp nhất:\", result)"
   ]
  },
  {
   "cell_type": "code",
   "execution_count": null,
   "metadata": {},
   "outputs": [],
   "source": []
  }
 ],
 "metadata": {
  "kernelspec": {
   "display_name": "Python 3",
   "language": "python",
   "name": "python3"
  },
  "language_info": {
   "codemirror_mode": {
    "name": "ipython",
    "version": 3
   },
   "file_extension": ".py",
   "mimetype": "text/x-python",
   "name": "python",
   "nbconvert_exporter": "python",
   "pygments_lexer": "ipython3",
   "version": "3.11.4"
  }
 },
 "nbformat": 4,
 "nbformat_minor": 2
}
